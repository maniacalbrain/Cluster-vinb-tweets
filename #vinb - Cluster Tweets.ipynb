{
 "cells": [
  {
   "cell_type": "code",
   "execution_count": 1,
   "metadata": {
    "collapsed": false
   },
   "outputs": [
    {
     "data": {
      "text/html": [
       "<div style=\"max-height:1000px;max-width:1500px;overflow:auto;\">\n",
       "<table border=\"1\" class=\"dataframe\">\n",
       "  <thead>\n",
       "    <tr style=\"text-align: right;\">\n",
       "      <th></th>\n",
       "      <th>User</th>\n",
       "      <th>Text</th>\n",
       "      <th>Date</th>\n",
       "      <th>Retweet Count</th>\n",
       "      <th>Reply To</th>\n",
       "    </tr>\n",
       "  </thead>\n",
       "  <tbody>\n",
       "    <tr>\n",
       "      <th>0</th>\n",
       "      <td>Devine147</td>\n",
       "      <td>1 thing I did notice at the water protest was ...</td>\n",
       "      <td>2015-06-24 23:11:04</td>\n",
       "      <td>0</td>\n",
       "      <td>None</td>\n",
       "    </tr>\n",
       "    <tr>\n",
       "      <th>1</th>\n",
       "      <td>ger_mccann</td>\n",
       "      <td>#vinb If fg policies don't suit yer man from f...</td>\n",
       "      <td>2015-06-24 23:08:42</td>\n",
       "      <td>3</td>\n",
       "      <td>None</td>\n",
       "    </tr>\n",
       "    <tr>\n",
       "      <th>2</th>\n",
       "      <td>rosecaroline9</td>\n",
       "      <td>#vinb @BGriffinTD congrats on  recent arr of y...</td>\n",
       "      <td>2015-06-24 23:07:13</td>\n",
       "      <td>0</td>\n",
       "      <td>None</td>\n",
       "    </tr>\n",
       "    <tr>\n",
       "      <th>3</th>\n",
       "      <td>strumpetcity</td>\n",
       "      <td>@R2WKillarney Shows like #vinb can often be ch...</td>\n",
       "      <td>2015-06-24 23:06:06</td>\n",
       "      <td>0</td>\n",
       "      <td>R2WKillarney</td>\n",
       "    </tr>\n",
       "    <tr>\n",
       "      <th>4</th>\n",
       "      <td>RayMcGrath</td>\n",
       "      <td>I see @IsFearrAnStar is squeezing yet more 'st...</td>\n",
       "      <td>2015-06-24 23:03:57</td>\n",
       "      <td>0</td>\n",
       "      <td>None</td>\n",
       "    </tr>\n",
       "  </tbody>\n",
       "</table>\n",
       "</div>"
      ],
      "text/plain": [
       "            User                                               Text  \\\n",
       "0      Devine147  1 thing I did notice at the water protest was ...   \n",
       "1     ger_mccann  #vinb If fg policies don't suit yer man from f...   \n",
       "2  rosecaroline9  #vinb @BGriffinTD congrats on  recent arr of y...   \n",
       "3   strumpetcity  @R2WKillarney Shows like #vinb can often be ch...   \n",
       "4     RayMcGrath  I see @IsFearrAnStar is squeezing yet more 'st...   \n",
       "\n",
       "                 Date  Retweet Count      Reply To  \n",
       "0 2015-06-24 23:11:04              0          None  \n",
       "1 2015-06-24 23:08:42              3          None  \n",
       "2 2015-06-24 23:07:13              0          None  \n",
       "3 2015-06-24 23:06:06              0  R2WKillarney  \n",
       "4 2015-06-24 23:03:57              0          None  "
      ]
     },
     "execution_count": 1,
     "metadata": {},
     "output_type": "execute_result"
    }
   ],
   "source": [
    "import pandas as pd\n",
    "import numpy as np\n",
    "import datetime \n",
    "\n",
    "vinb = pd.read_csv(\"vinb2.txt\", sep=\"\\t\", header=0, encoding= 'utf-8', parse_dates = [\"Date\"])\n",
    "\n",
    "#drop tweets sent after 00:15. Show ended at 00:00, time is off by one hour\n",
    "vinb = vinb[vinb.Date < datetime.datetime(2015, 06, 24, 23, 15, 00)] \n",
    "vinb = vinb.reset_index(drop=True) #drops about 15 tweets, reindex so that first tweet is 0\n",
    "vinb.head()"
   ]
  },
  {
   "cell_type": "code",
   "execution_count": 2,
   "metadata": {
    "collapsed": false,
    "scrolled": true
   },
   "outputs": [],
   "source": [
    "import nltk\n",
    "import re\n",
    "from sklearn import feature_extraction\n",
    "\n",
    "stopwords = set(nltk.corpus.stopwords.words('english'))\n",
    "\n",
    "#import lots of cool things!"
   ]
  },
  {
   "cell_type": "code",
   "execution_count": 3,
   "metadata": {
    "collapsed": true
   },
   "outputs": [],
   "source": [
    "#the following block is adapted from a bag of words tutorial at https://www.kaggle.com/c/word2vec-nlp-tutorial\n",
    "\n",
    "#method to clean each tweet\n",
    "def tweet_to_words(tweet):\n",
    "    tweet = tweet.lower()    \n",
    "    tweet = re.sub(\"&amp;\", \" \", tweet) #&amp; managed to escape all cleaning and had to be delt with specially    \n",
    "    tweet = re.sub(r'https?:\\/\\/([\\da-z\\.\\/-]+)', ' ', tweet) #remove html links    \n",
    "    noVin = re.sub(r'#vinb', ' ', tweet) #remove #vinb as this appears in every tweet   \n",
    "    letters_only = re.sub(\"[^a-zA-Z]\", \" \", noVin) #remove anything that isn't a letter   \n",
    "    words = letters_only.split() #split into individual words   \n",
    "    meaningful_words = [w for w in words if not w in stopwords] #include only words NOT in stopwords  \n",
    "    clean_tweet = (\" \".join(meaningful_words)) #reasemble tweet\n",
    "    return clean_tweet #return the cleaned tweet"
   ]
  },
  {
   "cell_type": "code",
   "execution_count": 4,
   "metadata": {
    "collapsed": false
   },
   "outputs": [],
   "source": [
    "clean_tweets = []\n",
    "\n",
    "for tweet in vinb.Text:\n",
    "    clean = tweet_to_words(tweet)\n",
    "    clean_tweets.append(clean)"
   ]
  },
  {
   "cell_type": "markdown",
   "metadata": {},
   "source": [
    "A lot of the following code is taken from or inspired by this excellent <a href = \"http://brandonrose.org/clustering\", target=\"_blank\">Document Clustering</a> tutorial"
   ]
  },
  {
   "cell_type": "code",
   "execution_count": 5,
   "metadata": {
    "collapsed": false
   },
   "outputs": [],
   "source": [
    "from sklearn.feature_extraction.text import TfidfVectorizer\n",
    "\n",
    "vectorizer = TfidfVectorizer(use_idf=True, ngram_range =(1,3))\n",
    "\n",
    "train_data_features = vectorizer.fit_transform(clean_tweets)"
   ]
  },
  {
   "cell_type": "code",
   "execution_count": 6,
   "metadata": {
    "collapsed": true
   },
   "outputs": [],
   "source": [
    "terms = vectorizer.get_feature_names()"
   ]
  },
  {
   "cell_type": "code",
   "execution_count": 21,
   "metadata": {
    "collapsed": false
   },
   "outputs": [],
   "source": [
    "from sklearn.cluster import KMeans\n",
    "\n",
    "num_clusters = 15\n",
    "\n",
    "km = KMeans(n_clusters=num_clusters)\n",
    "km.fit(train_data_features)\n",
    "\n",
    "clusters = km.labels_.tolist()"
   ]
  },
  {
   "cell_type": "code",
   "execution_count": 22,
   "metadata": {
    "collapsed": true
   },
   "outputs": [],
   "source": [
    "clusterframe = pd.DataFrame(clusters, columns = [\"cluster\"]) #turns the list of clusters into a dataframe\n",
    "clustered_debate = pd.concat([vinb, clusterframe], axis = 1) #combines the tweets with  the clusters"
   ]
  },
  {
   "cell_type": "code",
   "execution_count": 23,
   "metadata": {
    "collapsed": false
   },
   "outputs": [
    {
     "data": {
      "text/html": [
       "<div style=\"max-height:1000px;max-width:1500px;overflow:auto;\">\n",
       "<table border=\"1\" class=\"dataframe\">\n",
       "  <thead>\n",
       "    <tr style=\"text-align: right;\">\n",
       "      <th></th>\n",
       "      <th>User</th>\n",
       "      <th>Text</th>\n",
       "      <th>Date</th>\n",
       "      <th>Retweet Count</th>\n",
       "      <th>Reply To</th>\n",
       "      <th>cluster</th>\n",
       "    </tr>\n",
       "  </thead>\n",
       "  <tbody>\n",
       "    <tr>\n",
       "      <th>0</th>\n",
       "      <td>Devine147</td>\n",
       "      <td>1 thing I did notice at the water protest was ...</td>\n",
       "      <td>2015-06-24 23:11:04</td>\n",
       "      <td>0</td>\n",
       "      <td>None</td>\n",
       "      <td>9</td>\n",
       "    </tr>\n",
       "    <tr>\n",
       "      <th>1</th>\n",
       "      <td>ger_mccann</td>\n",
       "      <td>#vinb If fg policies don't suit yer man from f...</td>\n",
       "      <td>2015-06-24 23:08:42</td>\n",
       "      <td>3</td>\n",
       "      <td>None</td>\n",
       "      <td>13</td>\n",
       "    </tr>\n",
       "    <tr>\n",
       "      <th>2</th>\n",
       "      <td>rosecaroline9</td>\n",
       "      <td>#vinb @BGriffinTD congrats on  recent arr of y...</td>\n",
       "      <td>2015-06-24 23:07:13</td>\n",
       "      <td>0</td>\n",
       "      <td>None</td>\n",
       "      <td>13</td>\n",
       "    </tr>\n",
       "    <tr>\n",
       "      <th>3</th>\n",
       "      <td>strumpetcity</td>\n",
       "      <td>@R2WKillarney Shows like #vinb can often be ch...</td>\n",
       "      <td>2015-06-24 23:06:06</td>\n",
       "      <td>0</td>\n",
       "      <td>R2WKillarney</td>\n",
       "      <td>5</td>\n",
       "    </tr>\n",
       "    <tr>\n",
       "      <th>4</th>\n",
       "      <td>RayMcGrath</td>\n",
       "      <td>I see @IsFearrAnStar is squeezing yet more 'st...</td>\n",
       "      <td>2015-06-24 23:03:57</td>\n",
       "      <td>0</td>\n",
       "      <td>None</td>\n",
       "      <td>14</td>\n",
       "    </tr>\n",
       "  </tbody>\n",
       "</table>\n",
       "</div>"
      ],
      "text/plain": [
       "            User                                               Text  \\\n",
       "0      Devine147  1 thing I did notice at the water protest was ...   \n",
       "1     ger_mccann  #vinb If fg policies don't suit yer man from f...   \n",
       "2  rosecaroline9  #vinb @BGriffinTD congrats on  recent arr of y...   \n",
       "3   strumpetcity  @R2WKillarney Shows like #vinb can often be ch...   \n",
       "4     RayMcGrath  I see @IsFearrAnStar is squeezing yet more 'st...   \n",
       "\n",
       "                 Date  Retweet Count      Reply To  cluster  \n",
       "0 2015-06-24 23:11:04              0          None        9  \n",
       "1 2015-06-24 23:08:42              3          None       13  \n",
       "2 2015-06-24 23:07:13              0          None       13  \n",
       "3 2015-06-24 23:06:06              0  R2WKillarney        5  \n",
       "4 2015-06-24 23:03:57              0          None       14  "
      ]
     },
     "execution_count": 23,
     "metadata": {},
     "output_type": "execute_result"
    }
   ],
   "source": [
    "clustered_debate.head()"
   ]
  },
  {
   "cell_type": "code",
   "execution_count": 24,
   "metadata": {
    "collapsed": false,
    "scrolled": true
   },
   "outputs": [
    {
     "name": "stdout",
     "output_type": "stream",
     "text": [
      "Top terms per cluster:\n",
      "\n",
      "Cluster 0 words: one, ireland, would, tv, fuck,\n",
      "Length: 53\n",
      "\n",
      "Cluster 1 words: thornton, fella, grant, grant thornton, name,\n",
      "Length: 24\n",
      "\n",
      "Cluster 2 words: peoplesdebate, people, great, kerry, day,\n",
      "Length: 97\n",
      "\n",
      "Cluster 3 words: pipe, peoplesdebate pipe, peoplesdebate, pipe peoplesdebate, irishwater,\n",
      "Length: 18\n",
      "\n",
      "Cluster 4 words: rae, healy rae, healy, michael, michael healy rae,\n",
      "Length: 51\n",
      "\n",
      "Cluster 5 words: people, labour, kerry, people kerry, kerry people,\n",
      "Length: 51\n",
      "\n",
      "Cluster 6 words: ferris, martin, martin ferris, man, well,\n",
      "Length: 48\n",
      "\n",
      "Cluster 7 words: post, post offices, offices, good, re,\n",
      "Length: 60\n",
      "\n",
      "Cluster 8 words: tralee, rose, rose tralee, way, brogue tralee,\n",
      "Length: 18\n",
      "\n",
      "Cluster 9 words: get, jackie, jackie crowe, crowe, right,\n",
      "Length: 85\n",
      "\n",
      "Cluster 10 words: healy raes, raes, healy, may, il,\n",
      "Length: 19\n",
      "\n",
      "Cluster 11 words: debate, back, tonight, back door, debate tonight,\n",
      "Length: 22\n",
      "\n",
      "Cluster 12 words: health, mental, mental health, ff, health service,\n",
      "Length: 36\n",
      "\n",
      "Cluster 13 words: cap, let, party, please, song,\n",
      "Length: 249\n",
      "\n",
      "Cluster 14 words: kerry, woman, see, tonight, brave,\n",
      "Length: 56\n",
      "\n"
     ]
    }
   ],
   "source": [
    "from __future__ import print_function\n",
    "\n",
    "print(\"Top terms per cluster:\")\n",
    "print()\n",
    "#sort cluster centers by proximity to centroid\n",
    "order_centroids = km.cluster_centers_.argsort()[:, ::-1] #from start to finish, reverse array\n",
    "\n",
    "for i in range(num_clusters):\n",
    "    print(\"Cluster %d words:\" % i, end='') \n",
    "    \n",
    "    for ind in order_centroids[i, :5]: #will print 5 most common words\n",
    "        print(' %s' % terms[ind], end=',') \n",
    "    print() \n",
    "    print('Length: %d' % len(clustered_debate.Text[clustered_debate.cluster == i])) #prints cluster length, ie no of tweets in each cluster\n",
    "    print()"
   ]
  },
  {
   "cell_type": "markdown",
   "metadata": {},
   "source": [
    "With no ngrams_range set (default of 1) there was a tendency for an \"uber-cluster\" to appear. Even at 30 clusters one of them contained over 33% of the tweets. However, the tweets in the other clusters seemed to be very strongly correlated. In the above, with ngrams_range set to (1, 3) the important words seems a lot better but the clusters themselves often contain very disparate tweets. \n",
    "\n",
    "Below are sample tweets from each of the clusters."
   ]
  },
  {
   "cell_type": "code",
   "execution_count": 25,
   "metadata": {
    "collapsed": false
   },
   "outputs": [
    {
     "name": "stdout",
     "output_type": "stream",
     "text": [
      "Cluster 0 words: one, ireland, would, tv, fuck,\n",
      "#vinb if fg,lab or ff where building companies, would u trust them to build ur home.\n",
      "Love how mental Ireland is...TV Political debate getting heated ...RIGHT enough of that, bring out the music &amp; dancers for a session! #vinb\n",
      "Ireland Debt Clock :: National Debt of Ireland http://t.co/gc2aEwIjk9 #vinb\n",
      "BREAKING   #TV3 announce a new talent search show, being led by Vincent Brown in the Simon Cowell role, other judges, M'Lod, O'Murchu #vinb\n",
      "none of them would get a summer job in a hole #vinb ticks not politics\n",
      "#vinb @TonightWithVinB TV3 could devote a lot more time to historical documentary, enough with the crime specials.\n",
      "Independence Day my eye! Ireland is not sovereign! Bleating on about the past is not going to help the future #VINB\n",
      "Wouldn't it be intriguing, if Ireland for one moment, sought to look forward to a history that beckons....?  #vinb\n",
      "What the fuck had Kerry to do with 1916? Have I missed something, did something actually happen there in 1916  #vinb\n",
      "You'd swear theres 2 books for politicians.The one for government and one for opposition.Depends on the result as to what one you read #vinb\n",
      "\n",
      "\n",
      "Cluster 1 words: thornton, fella, grant, grant thornton, name,\n",
      "Well at least Sarah knows the name of the hotel #gleneagle #vinb\n",
      "right no looking it up on google how many TD'S can you name #vinb\n",
      "So the @FiannaFail  reason D'etre is Every party was demanding an increase in spending'......I recall a fella called Pontius Pilate..#vinb\n",
      "#vinb Rebels by name and by nature as apparently mass resignation in Cobh SF tonight\n",
      "Who's the joe Duffy fella? #vinb\n",
      "Brilliant! @talktojoe1850 has something in common with @dunnesstores workers; he only works 15 hours a week! Ha ha! #VinB #PeoplesDebate\n",
      "That fella can't pronounce 'billion' properly.  #vinb\n",
      "Ha ha! Shinners fighting is nothing new. Nor amongst themselves is it new but this is a new \"low\" I think? #VinB  https://t.co/v2jcGNGJJV\n",
      "A fella by the name of Grant Thornton.ha! .  #VinB\n",
      "How in the name of jaysus would Burton know about the importance of the PO in rural Ireland living in the concrete jungle of W Dublin #vinb\n",
      "\n",
      "\n",
      "Cluster 2 words: peoplesdebate, people, great, kerry, day,\n",
      "That was a bit like watching people dancing with their sisters. Grim stuff. #vinb #PeoplesDebate\n",
      "Well, that dance was mercifully short. #vinb #PeoplesDebate\n",
      "LOVE the Trad !  #PeoplesDebate #VinB\n",
      "#vinb #PeoplesDebate #IrishWater #Siteserv #Austerity #TomFleming IND TD #Kerry: Not a gr8 speaker but I've cn him in #Right2Water #protests\n",
      "Young centre-right politicians are, with no exceptions whatsoever, a thoroughly depressing species. #vinb #PeoplesDebate\n",
      "#government #inequality #Irishwater #WaterCharges #vinb #PeoplesDebate #Protest #FG #Lab #LoneParents http://t.co/b0LhuX3Rzr\n",
      "Disappointed that abysmal Mid-Kerry water supply &amp; privatisation of health service not discussed in #vinb #PeoplesDebate. Good show though.\n",
      "I LOVE this Man. January 21st IS OUR RIGHTFUL &amp; TRUE Independence day! #Irb #Tipperary. #Peoplesdebate #VinB #Eire ☺(My Family died Irb)\n",
      "If I go asleep now, can someone wake me up in 2017? #vinb #PeoplesDebate\n",
      "They can post the cheques out to us 😂😂 legend #vinb #PeoplesDebate\n",
      "\n",
      "\n",
      "Cluster 3 words: pipe, peoplesdebate pipe, peoplesdebate, pipe peoplesdebate, irishwater,\n",
      "#inequality #Protest #austerity #LoneParents #not1pipe #PeoplesDebate #VinB #corruption #irishwater #government http://t.co/SXuiSPWFEe\n",
      "#vinb #PeoplesDebate #not1pipe #WaterCharges #government #Burtoncut #Lab #FG #LoneParents #cuts #austerity #Protest http://t.co/CIeKgVLVfb\n",
      "#austerity  #FG #Lab #IrishWater #LoneParents #Burtoncut #government #WaterCharges #PeoplesDebate #not1pipe #VinB http://t.co/W62X2RD34L\n",
      "#vinb #not1pipe #PeoplesDebate #WaterCharges #government #Burtoncut #LoneParents #irishwater #BallyheaSaysNo http://t.co/EEAkBbfDep\n",
      "#PeoplesDebate #not1pipe #vinb http://t.co/yDCsx55fUH\n",
      "#not1pipe #VinB #PeoplesDebate http://t.co/S7kPyEKVze\n",
      "#PeoplesDebate #vinb #not1pipe http://t.co/yDtg15rEvj\n",
      ".@Labour neoliberals pushin more kids into poverty, SHAME! #HurtinBurton #Yeschildequality #vinb #not1pipe #Burtoncut http://t.co/ol6VwtRF4z\n",
      "Plenty of money to throw at #irishwater corruption but pittance to mental health #not1pipe #PeoplesDebate #vinb https://t.co/OwOpuR0uJa\n",
      "@Ballymunsaysno .. @desmondotoole is an ape #watercharges #vinb #not1pipe, I'm no freeloader workers say NO http://t.co/X7TxjY9eq4\n",
      "\n",
      "\n",
      "Cluster 4 words: rae, healy rae, healy, michael, michael healy rae,\n",
      "50 shades of Rae is out now on dvd #vinb\n",
      "#vinb at least Michael Healy-Rae speaks from the heart. Unlike @EndaKennyTD et. al. who speak through their ass. Roll on GE15, payback\n",
      "#vinb Healy Rae and Ming are true post-modern politicians\n",
      "Goota love the Healy -Rae's....every time they speak, tis like listening to a Munster Final on the radio....  #vinb\n",
      "Michael Healy-Rae sounds like,sounds like, Jasus he sounds like Oul' Time @fiannafailparty . I feckin miss him. #vinb\n",
      "Healy Rae is fooling nobody. His aul boy was a Fianna Failer and no amount of cap wearing can hide that #vinb\n",
      "#vinb Ferris saying we don't have independence, so neck. Healy-Rae didn't know. 2 absolutes wastes of space.\n",
      "Michael Healy-Rae is hilarious. #vinb\n",
      "I'll tell you the day that I celebrate our Independence Day – EVERY day - Michael Healy Rae  Jesus fucking christ *throws up* #vinb\n",
      "#vinb Healy Rae glorified councillor on TD wages!!\n",
      "\n",
      "\n",
      "Cluster 5 words: people, labour, kerry, people kerry, kerry people,\n",
      "@R2WKillarney Shows like #vinb can often be choreographed and managed  @labour\n",
      "People WANT to assert their rights. But Party politics wants a vested interest &amp; pre-decides for us! Reject them all! #vinb #democracy #fb\n",
      "@ATMH1994 Impressive for an amoeba perhaps    #vinb\n",
      "The Labour TD from Kerry was very quiet all night #vinb\n",
      "@oconne10 That would be @SpringAJ that you should ask. The Labour TD for Kerry. #vinb @LaceyDermot\n",
      "@Evanis editing had nothing to do with me but that segment  wasn't really relevant at a people's debate. #vinb\n",
      "Very little about the savage attack on lone parents incomes.....those who are squeezed already in this country and @labour owns this #vinb\n",
      "#vinb if the people of Kerry vote Griffin or FF back in , we will see even more austerity and privatization.\n",
      "FF rep in South Kerry, where John O'Donohue spent 1/2 his annual sports budget, complains Mayo now gets more than Kerry. #vinb\n",
      "BREAKING NEWS South Dublin County Council is being occupied for the night by a homeless couple. Gardai on scene. #vinb The Face of Ireland.\n",
      "\n",
      "\n",
      "Cluster 6 words: ferris, martin, martin ferris, man, well,\n",
      "Though not relevant to the peoples debate, I think vincents attack on Martin Ferris should,nt have been edited. Just the show the bias #vinb\n",
      "#vinb @vincentbrowne what happened your questioning of Martin Ferris. Cannot believe it was edited out. Going soft. Best part of the night\n",
      "When an audience applauds a man for an achievement of 5 years ago...becoming a father....   there is something, intrisincally curious #vinb\n",
      "#vinb Your man from fg pleadin for his job, sure you'll be alright on jobsbridge son!\n",
      "@gallmacmorna  Pretty raw issues well presented here but no prospect of solutions unfortunately #vinb\n",
      "Martin Ferris on #vinb wants more money in everyone's pockets. Doesn't say whose money tho. Populist shite.\n",
      "Martin Ferris using his closing remarks to hit every single populist point he could think of. Ugh. #vinb\n",
      "Martin Farris's \" we don't have independence yet \" is such a stupid comment. #vinb\n",
      "Has the confrontation between #vinb and Martin Ferris over the 1985 murder of John Corcoran been edited out?\n",
      "#VINB There's onions-ology for you!  Independence Day Man.\n",
      "\n",
      "\n",
      "Cluster 7 words: post, post offices, offices, good, re,\n",
      "@niamh_lyons you're the fairest flower of all always great on #vinb oíche mhaith\n",
      "Griffin is in politics to ensure a good future for HIS kids.That's the problem with FGers they don't think about other peoples kids #vinb\n",
      "There's Brendan Griffin re-elected then. He's quite impressive for a Fine Gael backbencher. #vinb\n",
      "Looks like there's another opportunity for a good ol 'booze up' next January 21st.......  #Indeirependanceday  #vinb\n",
      "They just turn over and snooze.  It's easy if you're arrogant &amp; FG/Lab are very arrogant. #no2iw #vinb   https://t.co/dFXRUcv4j1\n",
      "I really think tonight's #vinb need's subtitles....\n",
      "“How does the panel see the family resource centre being strengthened to support all our families? #PeopleDebates #Vinb\n",
      "#vinb what a lovely man from the rural Ireland dwellers.\n",
      "Really important to discuss how we fund services for an aging population, particularly Fair Deal Scheme #vinb\n",
      "We're in Kerry I take it? #vinb\n",
      "\n",
      "\n",
      "Cluster 8 words: tralee, rose, rose tralee, way, brogue tralee,\n",
      "Sure we'll all have a sing and a dance and it'll all be ok. #vinb\n",
      "I'll pay for round two of the Rose of Tralee from a drunk Vincent drinking Bulmers out of his shoe with his tie around his forehead #vinb\n",
      "#vinb We dont have sovereignty or Independence...fuck sake, what kind of arse holes still believe we are in some way sovereign..\n",
      "This Republic treats citizens in a shocking way,our tax money is hoovered and used in very questionable ways,beyond time for change #vinb\n",
      "The 'Brogue's Of Tralee'  #vinb\n",
      "So why is Griffen in the Dail?  Vote whatever way he's told to and collect his fat pay cheque. Is it this our grandparents fought for? #vinb\n",
      "My kitchens bigger than the oncology department in Tralee brave terminally ill woman on #vinb.So sad to think that's what you're left with\n",
      "#vinb leo V must have got the job as the joker to make people laugh all the way with the health service\n",
      "My kitchens bigger than the oncology department in Tralee  brave terminally ill lady . Shame on you @EndaKennyTD  #vinb\n",
      "That mic looked like it was about to explode, the way it was handed along. #vinb\n",
      "\n",
      "\n",
      "Cluster 9 words: get, jackie, jackie crowe, crowe, right,\n",
      "1 thing I did notice at the water protest was that everyone there was a hard-liner and were there at start and there till the end ! #vinb\n",
      "#vinb tweet machine needs oiling.....perhaps..?\n",
      "#vinb RT @RT_com PM Tsipras says Greek creditors didn’t accept reform plan http://t.co/7pd8HQ6n8o http://t.co/91p2Z89zRw\n",
      "Terrifying story on the cover of Examiner tomorrow morning about surge of Dementia patients here. Result of aging population or? #vinb\n",
      "Did you get a return train ticket? #vinb\n",
      "Hiding seek champion for tonight @SpringAJ still missing #vinb\n",
      "Two hours of halls pictorial weekly.. Yeehahh #vinb\n",
      "#vinb @MichaelHealyRae he's a super speaker &amp; fine example of how a politician should be &amp; im a dub !!\n",
      "Politicians talking bollocks. Welcome to #VinB\n",
      "Jasus get the rant on #vinb\n",
      "\n",
      "\n",
      "Cluster 10 words: healy raes, raes, healy, may, il,\n",
      "shock horror EU leaders may have to work saturday #vinb\n",
      "I fear there may be Healy Raes in the Dáil for as long as Kerry is attached the island. #vinb\n",
      "#Vinb i dont trust any politician but i have studied michael healy raeTD and i would trust him he fights for his ppl of kerry unlike enda,\n",
      "It's all talk, it always just talk, nothing ever changes. The country's run by Golden Circle &amp; as long as they are OK, they don't care #vinb\n",
      "We may not see the famous argument then...... #Vinb  https://t.co/GVVpnY0RZM\n",
      "The Healy-Raes are doing quite well from council contracts, pure coincidence I'm sure. #vinb http://t.co/SLl5MMDgf6\n",
      "Vinshunt, I'm a tick, fram a long line av ticksh. I shtand here making up shtupid shtoriesh invalvin farum mashinury *crowd goes wild* #vinb\n",
      "Why do the Healy Rays exaggerate the Kerry accent when they have a microphone in front of them? Nobody else down there talks like that #vinb\n",
      "Methinks the 'Healy-Raes' are putting on the accent with a plough. #VinB\n",
      "The Healy Raes - never doubt them #vinb\n",
      "\n",
      "\n",
      "Cluster 11 words: debate, back, tonight, back door, debate tonight,\n",
      "Back to the capital Kiev for the papers now.. I'm sad #vinb\n",
      "Yaaaaa the music is back #vinb\n",
      "Back too Ukrainian debate.. #vinb http://t.co/C8V3hTcSdy\n",
      "This has definitely been the most Country &amp; Western debate yet #vinb\n",
      "Join us off the back of our debate tonight for a preview of tomorrow mornings newspapers #PeoplesDebate #VinB\n",
      "I have a feeling #repealthe8th won't come up at this debate #vinb\n",
      "What will #JimmyDeenihan  tell @alankellylabour @PaudieCoffey  about  watering down Building Control Regulations when he gets back?  #vinb\n",
      "Not much about water charges at the debate tonight  😀😀 #vinb\n",
      "@gallmacmorna FF section not getting into the debate at all #vinb\n",
      "... also people on both blind and disability payment are banned from receiving back to work dividend #vinb\n",
      "\n",
      "\n",
      "Cluster 12 words: health, mental, mental health, ff, health service,\n",
      "@GCraughwell Excellent point, Gerard. I propose all politicians must avail of Public |health Service ONLY.. #vinb\n",
      "#vinb HSE  could save a lot of money if it sorted out administration far too many pen pushers. #fg #ff # lab\n",
      "#vinb my second born child lives and works in Canada because of #ff #fg and #lab, fecking sure his child won't have to emigrate.\n",
      "The health insurance industry relies on/depends on/ insists on an underfunded inadequate Public Health Service to attract customers #vinb\n",
      "FF, FG,LAB...altogether now lads...\"It was the bankers wat done it\" #vinb\n",
      "OMG I can't listen to that FF guy talk about home help hours when they themselves cut hundreds of thousands Home Help hours 2009/10 #vinb\n",
      "Fiannafail giving out about fg/lab cuts which were ff policy in the first place what a joke #vinb\n",
      "Our TDs *DO NOT* lack imagination. Far from it the sneaky toerags. It's genuine authentic FEELING they lack. And backbone!! #vinb\n",
      "Love vinnie's deadpan 'why?' #ff # vinb\n",
      "#vinb #PeoplesDebate ... its time to look at mental wellbeing from birth to old age as well as mental health service delivery\n",
      "\n",
      "\n",
      "Cluster 13 words: cap, let, party, please, song,\n",
      "#vinb If fg policies don't suit yer man from fg, what's he doing at their  party? Run as an Independent or join another party.!\n",
      "#vinb @BGriffinTD congrats on  recent arr of your baby. @FineGael ignores abortion steals a country's Future  #brokenpromises #ivoteprolife\n",
      "We should send @DonnellyStephen @PearseDoherty and Peter Matthews to \"PIGS\" debt conference @ronanburtenshaw @ReadaCronin #vinb #twip #rtept\n",
      "#vinb Headlines or audio paper?!?\n",
      "#vinb https://t.co/ekba9VNcUc\n",
      "Worrying the power paramilitaries still have in NI #vinb\n",
      "#vinb Don't #underestimate a #HealyRae All sides #begrudgingly expect @MHealyRae 2 #SweepTheBoards in #GE15 / #GE16 They'll get d #LastLaugh\n",
      "I have 2 words for #vinb &amp; his ad breaks .... The second word is OFF\n",
      "Pollen has a threatening Northside accent why? #vinb\n",
      "Was thinking of releasing a debut Album  called   'This Page Cant Be Displayed'                 by  Pat Rabbitte and The Broadbands  #vinb\n",
      "\n",
      "\n",
      "Cluster 14 words: kerry, woman, see, tonight, brave,\n",
      "I see @IsFearrAnStar is squeezing yet more 'stories' out of the Graham Dwyer case. #vinb\n",
      "Spent most of the day in A&amp;E yesterday its some mess 75y old woman there most of day starving serious medical past, delirious she was #vinb\n",
      "“@irishexaminer: Neanderthal DNA discovery |http://t.co/puYphfA60a (RMC) http://t.co/onpFYSysTZ”-&gt;found under black cap in south Kerry #vinb\n",
      "#vinb is there anyone out there ? 400,000 patients waiting for 1st meet to see a consultant =20% of the entire population of public patients\n",
      "@FCTwenteBenson A J Spring too afraid to show up .. he knows that he's Spring has Sprung here in Kerry. #vinb\n",
      "The more I see of Kenny &amp; Noonan, I can't help thinking what a lucky escape those kids had, not being taught by them pair of amadains. #vinb\n",
      "Anyone looking at that woman with cancer on #vinb tonight must surely wonder where is Ireland going #inequality rich are not suffering\n",
      "@BillGatesFeed lol take a look at #vinb and see the botes. thanks for sharing\n",
      "What's with the \" cases\" and kerry #vinb\n",
      "Woman dying of cancer trying to make a claim for decent healthcare and this patronising muppet prattling on about Independence Day. #vinb\n",
      "\n",
      "\n"
     ]
    }
   ],
   "source": [
    "for i in range(num_clusters):\n",
    "    print(\"Cluster %d words:\" % i, end='')\n",
    "    for ind in order_centroids[i, :5]: \n",
    "        print(' %s' % terms[ind], end=',')\n",
    "    print()\n",
    "    for text in pd.DataFrame(clustered_debate.Text[clustered_debate.cluster == i]).Text.head(10):\n",
    "        print(text)\n",
    "    print()\n",
    "    print()"
   ]
  },
  {
   "cell_type": "markdown",
   "metadata": {},
   "source": [
    "In the following block change the number on the first row to that of the cluster you want and change the number on the second row to the number of tweets from that cluster that you want. The below example prints out 10 tweets from cluster0"
   ]
  },
  {
   "cell_type": "code",
   "execution_count": 26,
   "metadata": {
    "collapsed": false
   },
   "outputs": [
    {
     "name": "stdout",
     "output_type": "stream",
     "text": [
      "#vinb if fg,lab or ff where building companies, would u trust them to build ur home.\n",
      "Love how mental Ireland is...TV Political debate getting heated ...RIGHT enough of that, bring out the music &amp; dancers for a session! #vinb\n",
      "Ireland Debt Clock :: National Debt of Ireland http://t.co/gc2aEwIjk9 #vinb\n",
      "BREAKING   #TV3 announce a new talent search show, being led by Vincent Brown in the Simon Cowell role, other judges, M'Lod, O'Murchu #vinb\n",
      "none of them would get a summer job in a hole #vinb ticks not politics\n",
      "#vinb @TonightWithVinB TV3 could devote a lot more time to historical documentary, enough with the crime specials.\n",
      "Independence Day my eye! Ireland is not sovereign! Bleating on about the past is not going to help the future #VINB\n",
      "Wouldn't it be intriguing, if Ireland for one moment, sought to look forward to a history that beckons....?  #vinb\n",
      "What the fuck had Kerry to do with 1916? Have I missed something, did something actually happen there in 1916  #vinb\n",
      "You'd swear theres 2 books for politicians.The one for government and one for opposition.Depends on the result as to what one you read #vinb\n"
     ]
    }
   ],
   "source": [
    "display = pd.DataFrame(clustered_debate.Text[clustered_debate.cluster == 0])\n",
    "for text in display.Text.head(10):\n",
    "    print(text)"
   ]
  },
  {
   "cell_type": "code",
   "execution_count": null,
   "metadata": {
    "collapsed": true
   },
   "outputs": [],
   "source": []
  }
 ],
 "metadata": {
  "kernelspec": {
   "display_name": "Python 2",
   "language": "python",
   "name": "python2"
  },
  "language_info": {
   "codemirror_mode": {
    "name": "ipython",
    "version": 2
   },
   "file_extension": ".py",
   "mimetype": "text/x-python",
   "name": "python",
   "nbconvert_exporter": "python",
   "pygments_lexer": "ipython2",
   "version": "2.7.8"
  }
 },
 "nbformat": 4,
 "nbformat_minor": 0
}
