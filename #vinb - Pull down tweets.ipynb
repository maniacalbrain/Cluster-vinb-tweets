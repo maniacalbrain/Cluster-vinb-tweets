{
 "cells": [
  {
   "cell_type": "markdown",
   "metadata": {
    "collapsed": false
   },
   "source": [
    "# Getting The Tweets"
   ]
  },
  {
   "cell_type": "markdown",
   "metadata": {},
   "source": [
    "The following code connects to a twitter account and pulls down all tweets sent using #vinb on the evening of Wednesday 24th of June 2015. The line \"from keys import keys\" in the first block refers to a file called keys.py that holds a dictionary called keys. This is used for the OAuth and has not been included in the repository. As the name suggests, the consumer secret and access token secret should be kept secret. Check the <a href=\"http://docs.tweepy.org/en/v3.2.0/\">documentation</a> for <a href=\"https://github.com/tweepy/tweepy\">Tweepy</a> for details on authenticating and searching Twitter using your own account."
   ]
  },
  {
   "cell_type": "code",
   "execution_count": null,
   "metadata": {
    "collapsed": true
   },
   "outputs": [],
   "source": [
    "import tweepy\n",
    "import sys\n",
    "from keys import keys\n",
    "\n",
    "CONSUMER_KEY = keys['consumer_key']\n",
    "CONSUMER_SECRET = keys['consumer_secret']\n",
    "ACCESS_TOKEN = keys['access_token']\n",
    "ACCESS_TOKEN_SECRET = keys['access_token_secret']\n",
    "\n",
    "#OAuth process, using the keys and tokens above\n",
    "auth = tweepy.OAuthHandler(CONSUMER_KEY, CONSUMER_SECRET)\n",
    "auth.set_access_token(ACCESS_TOKEN, ACCESS_TOKEN_SECRET)\n",
    "\n",
    "#Creation of the actual interface, using authentication\n",
    "api = tweepy.API(auth)"
   ]
  },
  {
   "cell_type": "code",
   "execution_count": 189,
   "metadata": {
    "collapsed": false
   },
   "outputs": [
    {
     "name": "stderr",
     "output_type": "stream",
     "text": [
      "C:\\Users\\maniacalbrain\\Anaconda\\lib\\site-packages\\requests\\packages\\urllib3\\util\\ssl_.py:90: InsecurePlatformWarning: A true SSLContext object is not available. This prevents urllib3 from configuring SSL appropriately and may cause certain SSL connections to fail. For more information, see https://urllib3.readthedocs.org/en/latest/security.html#insecureplatformwarning.\n",
      "  InsecurePlatformWarning\n",
      "C:\\Users\\maniacalbrain\\Anaconda\\lib\\site-packages\\requests\\packages\\urllib3\\util\\ssl_.py:90: InsecurePlatformWarning: A true SSLContext object is not available. This prevents urllib3 from configuring SSL appropriately and may cause certain SSL connections to fail. For more information, see https://urllib3.readthedocs.org/en/latest/security.html#insecureplatformwarning.\n",
      "  InsecurePlatformWarning\n",
      "C:\\Users\\maniacalbrain\\Anaconda\\lib\\site-packages\\requests\\packages\\urllib3\\util\\ssl_.py:90: InsecurePlatformWarning: A true SSLContext object is not available. This prevents urllib3 from configuring SSL appropriately and may cause certain SSL connections to fail. For more information, see https://urllib3.readthedocs.org/en/latest/security.html#insecureplatformwarning.\n",
      "  InsecurePlatformWarning\n",
      "C:\\Users\\maniacalbrain\\Anaconda\\lib\\site-packages\\requests\\packages\\urllib3\\util\\ssl_.py:90: InsecurePlatformWarning: A true SSLContext object is not available. This prevents urllib3 from configuring SSL appropriately and may cause certain SSL connections to fail. For more information, see https://urllib3.readthedocs.org/en/latest/security.html#insecureplatformwarning.\n",
      "  InsecurePlatformWarning\n"
     ]
    }
   ],
   "source": [
    "import datetime\n",
    "import time\n",
    "\n",
    "f = open(\"vinb2.txt\", \"w\") #create new file to write to\n",
    "f.write(\"User\\tText\\tDate\\tRetweet Count\\tReply To\\n\") #write a header to the file\n",
    "\n",
    "#the first time I ran this code I typed:\n",
    "#starttime = datetime.datetime(21, 06, 24, 20, 40, 00)\n",
    "#which tried to read every tweet posted since 21AD...\n",
    "\n",
    "\n",
    "#Note that tweets created_at time, though stored in GMT, seems to be off by an hour. using 8.40 instead of 9.40 below\n",
    "#Tweets about show end at 23.07, show ended at 00.00 (reference to statement by Brendan Griffen at 23.07, statement made at c 23.40 in closing statement )\n",
    "starttime = datetime.datetime(2015, 06, 24, 20, 40, 00) #create a start and endtime, capture tweets between this time\n",
    "endtime = datetime.datetime(2015, 06, 25, 00, 00, 00) \n",
    "\n",
    "\n",
    "#create a cursor that will pull down every tweet between the 24 and 25 of June with #vinb. This will exeed the Twitter API limits\n",
    "vinb = tweepy.Cursor(api.search, q='vinb', since = \"2015-06-24\", until=\"2015-06-25\").items()\n",
    "\n",
    "proceed = True\n",
    "\n",
    "while proceed == True:\n",
    "    try:\n",
    "        tweet = vinb.next() #get the next tweet from the #vinb stream\n",
    "        if tweet.created_at < starttime: #If the tweet is from outside the program times, end\n",
    "            proceed = False\n",
    "            break\n",
    "        if not tweet.text.startswith('RT'): #if it is not a retweet\n",
    "            #replace newline and tabs in the text with spaces for ease of reading with pandas\n",
    "            text = str(unicode(tweet.text).encode(\"utf-8\")).replace(\"\\n\", \" \")\n",
    "            text = text.replace(\"\\t\", \" \")\n",
    "            \n",
    "            #concat the username, time, text, times retweet and if it is a reply. Seperate by tabs for reading by pandas\n",
    "            out_text = str(unicode(tweet.user.screen_name).encode(\"utf-8\")) + \"\\t\" + text + \"\\t\" + str(tweet.created_at) + \"\\t\" + str(tweet.retweet_count) + \"\\t\" + str(tweet.in_reply_to_screen_name) + \"\\n\"\n",
    "            \n",
    "            #write to f\n",
    "            f.write(out_text)\n",
    "    \n",
    "    #a TweepError can be caused by hitting the rate limit. If so, put program to sleep for 15 minutes to allow limit to refresh\n",
    "    #and then continue\n",
    "    \n",
    "    except tweepy.TweepError:\n",
    "        time.sleep(60 * 15)\n",
    "        continue\n",
    "    #Exit if we somehow manage to read in every file for the day!\n",
    "    except StopIteration:\n",
    "        break\n",
    "    \n",
    "\n",
    "#Close f        \n",
    "f.close()"
   ]
  },
  {
   "cell_type": "code",
   "execution_count": 193,
   "metadata": {
    "collapsed": false
   },
   "outputs": [
    {
     "data": {
      "text/plain": [
       "902"
      ]
     },
     "execution_count": 193,
     "metadata": {},
     "output_type": "execute_result"
    }
   ],
   "source": [
    "import pandas as pd\n",
    "\n",
    "test = pd.read_csv(\"vinb2.txt\", sep=\"\\t\", header=0, encoding= 'utf-8')\n",
    "\n",
    "len(test)"
   ]
  },
  {
   "cell_type": "code",
   "execution_count": 194,
   "metadata": {
    "collapsed": false
   },
   "outputs": [
    {
     "data": {
      "text/html": [
       "<div style=\"max-height:1000px;max-width:1500px;overflow:auto;\">\n",
       "<table border=\"1\" class=\"dataframe\">\n",
       "  <thead>\n",
       "    <tr style=\"text-align: right;\">\n",
       "      <th></th>\n",
       "      <th>User</th>\n",
       "      <th>Text</th>\n",
       "      <th>Date</th>\n",
       "      <th>Retweet Count</th>\n",
       "      <th>Reply To</th>\n",
       "    </tr>\n",
       "  </thead>\n",
       "  <tbody>\n",
       "    <tr>\n",
       "      <th>897</th>\n",
       "      <td>popcornhack</td>\n",
       "      <td>@DeirdreWalsh1 Me too. Switched to TV3 for Vin...</td>\n",
       "      <td>2015-06-24 20:55:51</td>\n",
       "      <td>0</td>\n",
       "      <td>DeirdreWalsh1</td>\n",
       "    </tr>\n",
       "    <tr>\n",
       "      <th>898</th>\n",
       "      <td>MoranPaul52</td>\n",
       "      <td>Festival in Killarney cancelled due to \"unfore...</td>\n",
       "      <td>2015-06-24 20:54:44</td>\n",
       "      <td>4</td>\n",
       "      <td>None</td>\n",
       "    </tr>\n",
       "    <tr>\n",
       "      <th>899</th>\n",
       "      <td>kevosullivan07</td>\n",
       "      <td>@niallboylan4fm that's like #vinb pulling ppl ...</td>\n",
       "      <td>2015-06-24 20:54:14</td>\n",
       "      <td>0</td>\n",
       "      <td>kevosullivan07</td>\n",
       "    </tr>\n",
       "    <tr>\n",
       "      <th>900</th>\n",
       "      <td>Cunionsandphey</td>\n",
       "      <td>#MammaMia is right! It's a pile of shite! Brin...</td>\n",
       "      <td>2015-06-24 20:43:23</td>\n",
       "      <td>0</td>\n",
       "      <td>None</td>\n",
       "    </tr>\n",
       "    <tr>\n",
       "      <th>901</th>\n",
       "      <td>GleneagleHotel</td>\n",
       "      <td>Turn over to @TV3Ireland and watch @vincentbro...</td>\n",
       "      <td>2015-06-24 20:40:41</td>\n",
       "      <td>1</td>\n",
       "      <td>None</td>\n",
       "    </tr>\n",
       "  </tbody>\n",
       "</table>\n",
       "</div>"
      ],
      "text/plain": [
       "               User                                               Text  \\\n",
       "897     popcornhack  @DeirdreWalsh1 Me too. Switched to TV3 for Vin...   \n",
       "898     MoranPaul52  Festival in Killarney cancelled due to \"unfore...   \n",
       "899  kevosullivan07  @niallboylan4fm that's like #vinb pulling ppl ...   \n",
       "900  Cunionsandphey  #MammaMia is right! It's a pile of shite! Brin...   \n",
       "901  GleneagleHotel  Turn over to @TV3Ireland and watch @vincentbro...   \n",
       "\n",
       "                    Date  Retweet Count        Reply To  \n",
       "897  2015-06-24 20:55:51              0   DeirdreWalsh1  \n",
       "898  2015-06-24 20:54:44              4            None  \n",
       "899  2015-06-24 20:54:14              0  kevosullivan07  \n",
       "900  2015-06-24 20:43:23              0            None  \n",
       "901  2015-06-24 20:40:41              1            None  "
      ]
     },
     "execution_count": 194,
     "metadata": {},
     "output_type": "execute_result"
    }
   ],
   "source": [
    "test.tail()"
   ]
  }
 ],
 "metadata": {
  "kernelspec": {
   "display_name": "Python 2",
   "language": "python",
   "name": "python2"
  },
  "language_info": {
   "codemirror_mode": {
    "name": "ipython",
    "version": 2
   },
   "file_extension": ".py",
   "mimetype": "text/x-python",
   "name": "python",
   "nbconvert_exporter": "python",
   "pygments_lexer": "ipython2",
   "version": "2.7.8"
  }
 },
 "nbformat": 4,
 "nbformat_minor": 0
}
